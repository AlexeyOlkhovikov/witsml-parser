{
 "cells": [
  {
   "cell_type": "code",
   "execution_count": 1,
   "id": "c7f7c53a",
   "metadata": {},
   "outputs": [],
   "source": [
    "%load_ext autoreload\n",
    "%autoreload 2"
   ]
  },
  {
   "cell_type": "code",
   "execution_count": 2,
   "id": "d7f7bad8",
   "metadata": {},
   "outputs": [],
   "source": [
    "from utils import read_xml, parse_xml\n",
    "\n",
    "import os\n",
    "from tqdm.auto import tqdm"
   ]
  },
  {
   "cell_type": "code",
   "execution_count": 3,
   "id": "d2a5df37",
   "metadata": {},
   "outputs": [],
   "source": [
    "ROOT_PATH = \"./\""
   ]
  },
  {
   "cell_type": "code",
   "execution_count": 4,
   "id": "0a63496f",
   "metadata": {},
   "outputs": [],
   "source": [
    "def walk(PATH):\n",
    "    for root, dirs, files in os.walk(PATH):\n",
    "        for f in files:\n",
    "            if f.endswith('.xml'):\n",
    "                yield os.path.join(root, f)\n",
    "        \n",
    "        for d in dirs:\n",
    "            walk(os.path.join(PATH, d))"
   ]
  },
  {
   "cell_type": "code",
   "execution_count": 5,
   "id": "26272db6",
   "metadata": {},
   "outputs": [],
   "source": [
    "files = walk(ROOT_PATH)\n",
    "files = [f for f in files]"
   ]
  },
  {
   "cell_type": "code",
   "execution_count": 6,
   "id": "9edf8e4c",
   "metadata": {},
   "outputs": [
    {
     "data": {
      "application/vnd.jupyter.widget-view+json": {
       "model_id": "bb0b7830484945a4a7402a4a4ce4f07e",
       "version_major": 2,
       "version_minor": 0
      },
      "text/plain": [
       "  0%|          | 0/18814 [00:00<?, ?it/s]"
      ]
     },
     "metadata": {},
     "output_type": "display_data"
    }
   ],
   "source": [
    "SAVE_PATH = \"./parsed_data/\"\n",
    "\n",
    "if not os.path.exists(SAVE_PATH):\n",
    "    os.mkdir(SAVE_PATH)\n",
    "\n",
    "for f in tqdm(files):\n",
    "    xml_object = read_xml(f)\n",
    "    well = f.split(\"/\")[4]\n",
    "    if not os.path.exists(os.path.join(SAVE_PATH, well)):\n",
    "        os.mkdir(os.path.join(SAVE_PATH, well))\n",
    "    parse_xml(xml_object, os.path.join(SAVE_PATH, well))"
   ]
  },
  {
   "cell_type": "code",
   "execution_count": null,
   "id": "5af20fb3",
   "metadata": {},
   "outputs": [],
   "source": []
  },
  {
   "cell_type": "code",
   "execution_count": null,
   "id": "fd8b76d9",
   "metadata": {},
   "outputs": [],
   "source": []
  },
  {
   "cell_type": "code",
   "execution_count": null,
   "id": "34214d94",
   "metadata": {},
   "outputs": [],
   "source": []
  },
  {
   "cell_type": "code",
   "execution_count": null,
   "id": "785fdf6f",
   "metadata": {},
   "outputs": [],
   "source": []
  },
  {
   "cell_type": "code",
   "execution_count": null,
   "id": "e8dbec7b",
   "metadata": {},
   "outputs": [],
   "source": []
  }
 ],
 "metadata": {
  "kernelspec": {
   "display_name": "Python 3 (ipykernel)",
   "language": "python",
   "name": "python3"
  },
  "language_info": {
   "codemirror_mode": {
    "name": "ipython",
    "version": 3
   },
   "file_extension": ".py",
   "mimetype": "text/x-python",
   "name": "python",
   "nbconvert_exporter": "python",
   "pygments_lexer": "ipython3",
   "version": "3.9.12"
  }
 },
 "nbformat": 4,
 "nbformat_minor": 5
}
